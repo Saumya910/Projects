{
 "cells": [
  {
   "cell_type": "code",
   "execution_count": 1,
   "id": "bcf1c089",
   "metadata": {},
   "outputs": [],
   "source": [
    "#text-to-speech conversion library\n",
    "import pyttsx3"
   ]
  },
  {
   "cell_type": "code",
   "execution_count": 2,
   "id": "4b79a5a1",
   "metadata": {},
   "outputs": [],
   "source": [
    "#python datetime module\n",
    "import datetime"
   ]
  },
  {
   "cell_type": "code",
   "execution_count": 3,
   "id": "0da097c2",
   "metadata": {},
   "outputs": [],
   "source": [
    "import speech_recognition as sr\n",
    "import pyaudio"
   ]
  },
  {
   "cell_type": "code",
   "execution_count": 4,
   "id": "92d383d2",
   "metadata": {},
   "outputs": [],
   "source": [
    "import wikipedia\n",
    "import webbrowser\n",
    "import os\n",
    "import sys\n",
    "import smtplib\n",
    "#The smtplib is a Python library for sending emails using the Simple Mail Transfer Protocol (SMTP).\n",
    "#The smtplib is a built-in module; we do not need to install it. It abstracts away all the complexities of SMTP"
   ]
  },
  {
   "cell_type": "code",
   "execution_count": 5,
   "id": "12183883",
   "metadata": {},
   "outputs": [],
   "source": [
    "engine=pyttsx3.init('sapi5')\n",
    "#sapi5 is a Microsoft speech application platform interface"
   ]
  },
  {
   "cell_type": "code",
   "execution_count": 6,
   "id": "eb5d596d",
   "metadata": {},
   "outputs": [
    {
     "name": "stdout",
     "output_type": "stream",
     "text": [
      "HKEY_LOCAL_MACHINE\\SOFTWARE\\Microsoft\\Speech\\Voices\\Tokens\\TTS_MS_EN-US_ZIRA_11.0\n"
     ]
    }
   ],
   "source": [
    "voices=engine.getProperty('voices')\n",
    "print (voices[1].id)\n"
   ]
  },
  {
   "cell_type": "code",
   "execution_count": 7,
   "id": "dcafc3ee",
   "metadata": {},
   "outputs": [],
   "source": [
    "engine.setProperty('voice',voices[1].id)\n"
   ]
  },
  {
   "cell_type": "code",
   "execution_count": 8,
   "id": "6e4c152c",
   "metadata": {},
   "outputs": [],
   "source": [
    "def speak(audio):\n",
    "    engine.say(audio)\n",
    "    engine.runAndWait()"
   ]
  },
  {
   "cell_type": "code",
   "execution_count": 22,
   "id": "4442f0e6",
   "metadata": {},
   "outputs": [],
   "source": [
    "def wishme():\n",
    "    hour=int(datetime.datetime.now().hour)\n",
    "    if 0<hour<4:\n",
    "        speak(\"it's very late! you should have slept:(\")\n",
    "    elif 4<=hour<12:\n",
    "        speak('Good Morning')\n",
    "    elif hour==12:\n",
    "        speak('Good Noon')\n",
    "    elif 12<hour<17:\n",
    "        speak('Good afternoon')\n",
    "    elif 17<=hour<21:\n",
    "        speak('Good evening')\n",
    "    elif hour==0:\n",
    "        speak(\"hey! it's midnight\")\n",
    "    else:\n",
    "        speak(\"hi! it's the best time to sleep\") \n",
    "    speak(\"I am Emily, How may i help you?\")    \n",
    "        \n",
    "    "
   ]
  },
  {
   "cell_type": "code",
   "execution_count": 10,
   "id": "2b984656",
   "metadata": {},
   "outputs": [],
   "source": [
    "def takecommand():\n",
    "    r=sr.Recognizer()\n",
    "    with sr.Microphone() as source:\n",
    "        print('listening.....')\n",
    "        r.energy_threshold=800\n",
    "        r.pause_threshold=1\n",
    "        audio=r.listen(source)\n",
    "    try:\n",
    "        print('recognizing....')\n",
    "        query=r.recognize_google(audio,language='en-in')\n",
    "        print(f\"user said: {query}\\n\")\n",
    "        speak(query)\n",
    "    \n",
    "    except Exception as e:\n",
    "        print('say that again please')\n",
    "        return 'None'\n",
    "    return query\n",
    "\n",
    "        "
   ]
  },
  {
   "cell_type": "code",
   "execution_count": 15,
   "id": "0ff073d3",
   "metadata": {},
   "outputs": [
    {
     "name": "stdout",
     "output_type": "stream",
     "text": [
      "listening.....\n",
      "recognizing....\n",
      "result2:\n",
      "{   'alternative': [{'confidence': 0.88687539, 'transcript': 'open YouTube'}],\n",
      "    'final': True}\n",
      "user said: open YouTube\n",
      "\n"
     ]
    },
    {
     "data": {
      "text/plain": [
       "'open YouTube'"
      ]
     },
     "execution_count": 15,
     "metadata": {},
     "output_type": "execute_result"
    }
   ],
   "source": [
    "takecommand()"
   ]
  },
  {
   "cell_type": "code",
   "execution_count": 11,
   "id": "85382d8b",
   "metadata": {},
   "outputs": [],
   "source": [
    "def sendEmail(to,content):\n",
    "    server=smtplib.SMTP('smtp.gmail.com',587)\n",
    "    server.ehlo()\n",
    "    server.starttls()\n",
    "    server.login('sgce21614@student.nitw.ac.in','')\n",
    "    server.sendmail('sgce21614@student.nitw.ac.in',to,content)\n",
    "    server.close()"
   ]
  },
  {
   "cell_type": "code",
   "execution_count": 16,
   "id": "a3fe4e08",
   "metadata": {
    "scrolled": true
   },
   "outputs": [
    {
     "name": "stdout",
     "output_type": "stream",
     "text": [
      "listening.....\n",
      "recognizing....\n",
      "result2:\n",
      "{   'alternative': [   {'confidence': 0.88687539, 'transcript': 'what is love'},\n",
      "                       {'transcript': 'what is'}],\n",
      "    'final': True}\n",
      "user said: what is love\n",
      "\n",
      "listening.....\n",
      "recognizing....\n",
      "result2:\n",
      "{   'alternative': [   {'confidence': 0.83460385, 'transcript': 'what is love'},\n",
      "                       {'transcript': 'what does love'},\n",
      "                       {'transcript': 'what does'},\n",
      "                       {'transcript': 'what is'}],\n",
      "    'final': True}\n",
      "user said: what is love\n",
      "\n",
      "listening.....\n",
      "recognizing....\n",
      "result2:\n",
      "{   'alternative': [{'confidence': 0.88687539, 'transcript': 'who are you'}],\n",
      "    'final': True}\n",
      "user said: who are you\n",
      "\n",
      "listening.....\n",
      "recognizing....\n",
      "result2:\n",
      "{   'alternative': [   {   'confidence': 0.88687539,\n",
      "                           'transcript': 'why she made you'},\n",
      "                       {'transcript': 'why made you'}],\n",
      "    'final': True}\n",
      "user said: why she made you\n",
      "\n",
      "listening.....\n",
      "recognizing....\n",
      "result2:\n",
      "[]\n",
      "say that again please\n",
      "listening.....\n",
      "recognizing....\n",
      "result2:\n",
      "{   'alternative': [   {   'confidence': 0.85580665,\n",
      "                           'transcript': 'why you came to world'},\n",
      "                       {'transcript': 'why you came to word'}],\n",
      "    'final': True}\n",
      "user said: why you came to world\n",
      "\n",
      "listening.....\n",
      "recognizing....\n",
      "result2:\n",
      "[]\n",
      "say that again please\n",
      "listening.....\n",
      "recognizing....\n",
      "result2:\n",
      "[]\n",
      "say that again please\n",
      "listening.....\n",
      "recognizing....\n",
      "result2:\n",
      "{   'alternative': [   {   'confidence': 0.84347582,\n",
      "                           'transcript': 'I can put copy equations quit'},\n",
      "                       {'transcript': 'I can put copy'},\n",
      "                       {'transcript': 'equations quit'},\n",
      "                       {'transcript': 'I can put copy equations quite'},\n",
      "                       {'transcript': 'I can put copy machine quit'}],\n",
      "    'final': True}\n",
      "user said: I can put copy equations quit\n",
      "\n",
      "thank you, i had a great time with you, hope to see you again\n"
     ]
    },
    {
     "ename": "SystemExit",
     "evalue": "0",
     "output_type": "error",
     "traceback": [
      "An exception has occurred, use %tb to see the full traceback.\n",
      "\u001b[1;31mSystemExit\u001b[0m\u001b[1;31m:\u001b[0m 0\n"
     ]
    }
   ],
   "source": [
    "while True:\n",
    "    query=takecommand().lower()\n",
    "    \n",
    "    if 'wikipedia' in query:\n",
    "        speak('searching wikipedia...')\n",
    "        query=query.replace('wikipedia','')\n",
    "        result=wikipedia.summary(query,sentences=3)\n",
    "        speak('according to wikipedia')\n",
    "        print(result)\n",
    "        speak(result)\n",
    "    \n",
    "    elif 'open youtube' in query:\n",
    "        webbrowser.open('youtube.com')\n",
    "        \n",
    "    elif 'open google' in query:\n",
    "        webbrowser.open('google.com') \n",
    "        \n",
    "    elif 'open flipkart' in query:\n",
    "        webbrowser.open('flipkart.com')\n",
    "        \n",
    "    elif 'open stackoverflow' in query:\n",
    "        webbrowser.open('stackoverflow.com')\n",
    "        \n",
    "    elif 'the time' in query:\n",
    "        strftime=datetime.datetime.now().strftime(\"%H:%M:%S\")\n",
    "        speak(f\"it's {strftime} my queen\")\n",
    "        \n",
    "    elif 'open jupyter notebook' in query:\n",
    "        bookPath='C:\\\\Users\\\\sony\\\\anaconda3\\\\python.exe C:\\\\Users\\\\sony\\\\anaconda3\\\\cwp.py C:\\\\Users\\\\sony\\\\anaconda3 C:\\\\Users\\\\sony\\\\anaconda3\\\\python.exe C:\\\\Users\\\\sony\\\\anaconda3\\\\Scripts\\\\jupyter-notebook-script.py \"%USERPROFILE%\\\\\"'\n",
    "        os.startfile(bookPath)\n",
    "    \n",
    "    elif 'send email' in query:\n",
    "        try:\n",
    "            speak('what should i do?')\n",
    "            content=takecommand()\n",
    "            to='garg.saumya1@gmail.com'\n",
    "            sendEmail(to,content)\n",
    "            speak('your mail has been sent!')\n",
    "            \n",
    "        except Exception as e:\n",
    "            print(e)\n",
    "            speak(\"sorry behenji i couldn't send your mail at this moment\")\n",
    "        \n",
    "    elif 'wish me' in query:\n",
    "        wishme()\n",
    "        \n",
    "    elif \"who am i\" in query:\n",
    "        speak(\"If you talk then definitely you are a human.\")\n",
    "        \n",
    "    elif \"why you came to world\" in query:\n",
    "\n",
    "        speak(\"Thanks to Saumya. further It's a secret\")\n",
    " \n",
    "\n",
    "    elif 'power point presentation' in query:\n",
    "        speak(\"opening Power Point presentation\")\n",
    "        power = r\"C:\\\\Users\\\\GAURAV\\\\Desktop\\\\Minor Project\\\\Presentation\\\\Voice Assistant.pptx\"\n",
    "        os.startfile(power)\n",
    " \n",
    "\n",
    "    elif 'is love' in query:\n",
    "\n",
    "        speak(\"It is 7th sense that destroys all other senses\")\n",
    " \n",
    "\n",
    "    elif \"who are you\" in query:\n",
    "\n",
    "        speak(\"I am your virtual assistant created by Queen Saumya\")\n",
    " \n",
    "\n",
    "    elif 'why she made you' in query:\n",
    "\n",
    "        speak(\"I was created as a Minor project by Queen Saumya \")    \n",
    "            \n",
    "    elif 'quit' in query:\n",
    "        try:\n",
    "            sys.exit(0)\n",
    "        except Exception as e:\n",
    "            print(e)\n",
    "            speak('try again')\n",
    "        finally:\n",
    "            a='thank you, i had a great time with you, hope to see you again'\n",
    "            print (a)\n",
    "            speak (a)\n",
    "            \n",
    "            "
   ]
  },
  {
   "cell_type": "code",
   "execution_count": 21,
   "id": "891b5720",
   "metadata": {},
   "outputs": [],
   "source": [
    "wishme()"
   ]
  },
  {
   "cell_type": "code",
   "execution_count": null,
   "id": "8a82babb",
   "metadata": {},
   "outputs": [],
   "source": []
  }
 ],
 "metadata": {
  "kernelspec": {
   "display_name": "Python 3 (ipykernel)",
   "language": "python",
   "name": "python3"
  },
  "language_info": {
   "codemirror_mode": {
    "name": "ipython",
    "version": 3
   },
   "file_extension": ".py",
   "mimetype": "text/x-python",
   "name": "python",
   "nbconvert_exporter": "python",
   "pygments_lexer": "ipython3",
   "version": "3.9.12"
  }
 },
 "nbformat": 4,
 "nbformat_minor": 5
}
